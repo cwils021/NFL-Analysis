{
  "nbformat": 4,
  "nbformat_minor": 0,
  "metadata": {
    "colab": {
      "name": "NFL-eda.ipynb",
      "provenance": [],
      "collapsed_sections": [],
      "authorship_tag": "ABX9TyMHJFVn+sYGWmqorrQj55dI",
      "include_colab_link": true
    },
    "kernelspec": {
      "name": "python3",
      "display_name": "Python 3"
    },
    "language_info": {
      "name": "python"
    }
  },
  "cells": [
    {
      "cell_type": "markdown",
      "metadata": {
        "id": "view-in-github",
        "colab_type": "text"
      },
      "source": [
        "<a href=\"https://colab.research.google.com/github/cwils021/NFL-Analysis/blob/main/NFL_eda.ipynb\" target=\"_parent\"><img src=\"https://colab.research.google.com/assets/colab-badge.svg\" alt=\"Open In Colab\"/></a>"
      ]
    },
    {
      "cell_type": "markdown",
      "metadata": {
        "id": "gyZWka7jha85"
      },
      "source": [
        "# NFL Data EDA"
      ]
    },
    {
      "cell_type": "markdown",
      "metadata": {
        "id": "X0fWKu97R--C"
      },
      "source": [
        "## To Run Notebook:\n",
        "\n",
        "1. Ensure kaggle.json is accessible on local machine\n",
        "2. Select \"runtime\" from top menu\n",
        "3. Select run all (alternativly crtl + f9 is the keyboard shortcut)\n",
        "4. upload kaggle.json when prompted\n",
        "5. First run will take approx 3-4 mins to complete"
      ]
    },
    {
      "cell_type": "markdown",
      "metadata": {
        "id": "G3eYJ5YAknFv"
      },
      "source": [
        "## load data to Colab"
      ]
    },
    {
      "cell_type": "code",
      "metadata": {
        "id": "zNZwic_ThZXQ"
      },
      "source": [
        "! pip install -q kaggle\n",
        "from google.colab import files\n",
        "\n",
        "#################################################################################################\n",
        "#                                                                                               #\n",
        "#   Need to download own kaggle.json to be able to load data directly from kaggle               #\n",
        "# 1. Sign into Kaggle (can sign in using google etc.)                                           #\n",
        "# 2. Navigate to account page, scroll down to API section and select create new api token       #\n",
        "#    this is your kaggle.json file                                                              #\n",
        "# 3. next line of code will prompt for location of kaggle.json file                             #\n",
        "#                                                                                               #\n",
        "#################################################################################################                                                                                                \n",
        "\n",
        "# select kaggle.json from local memory; \n",
        "files.upload()"
      ],
      "execution_count": null,
      "outputs": []
    },
    {
      "cell_type": "code",
      "metadata": {
        "id": "Oqu9ZI9wjFNa"
      },
      "source": [
        "# Download and unzip data files from kaggle\n",
        "! mkdir ~/.kaggle\n",
        "! cp kaggle.json ~/.kaggle/\n",
        "! chmod 600 ~/.kaggle/kaggle.json\n",
        "! kaggle datasets download -d tobycrabtree/nfl-scores-and-betting-data\n",
        "\n",
        "! unzip nfl-scores-and-betting-data.zip\n",
        "! mkdir nfl-datasets\n",
        "! mv *.csv /content/nfl-datasets/\n",
        "! pip install -q geopandas\n",
        "! pip install -q geopy\n",
        "! pip install -q geographiclib"
      ],
      "execution_count": null,
      "outputs": []
    },
    {
      "cell_type": "markdown",
      "metadata": {
        "id": "VDCms3fPk7zr"
      },
      "source": [
        "## load and clean data"
      ]
    },
    {
      "cell_type": "code",
      "metadata": {
        "id": "3agtxw-mnHY2"
      },
      "source": [
        "import numpy as np\n",
        "import pandas as pd\n",
        "import re\n",
        "import chardet\n",
        "import collections\n",
        "from geopy.geocoders import Nominatim\n",
        "from geopy.extra.rate_limiter import RateLimiter\n",
        "from geopy import distance\n",
        "import matplotlib.pyplot as plt\n",
        "from sklearn.model_selection import train_test_split\n",
        "from sklearn.linear_model import LogisticRegression\n",
        "import statsmodels.api as sm\n",
        "import statsmodels.formula.api as smf\n",
        "from geographiclib.geodesic import Geodesic\n",
        "\n",
        "'''\n",
        "remove_zipcode  -> function to remove zip code (defined as 5 consecutive digits only) from address string\n",
        "\n",
        "@param address  -> address string\n",
        "\n",
        "returns address -> if a zip code is found in address, address string with zip code removed returned, \n",
        "                   else address is passed back unchanged \n",
        "'''\n",
        "def remove_zipcode(address):\n",
        "  zip_re = \"[0-9]{5}\"\n",
        "\n",
        "  return re.sub(zip_re, \"\", address)\n",
        "\n",
        "# create game_id to be able to join with elo data\n",
        "def create_game_id(date, home_team_id, away_team_id):\n",
        "  date_str = date.strftime('%Y%m%d')\n",
        "  game_id = str(date_str + home_team_id + away_team_id)\n",
        "  return game_id\n",
        "\n"
      ],
      "execution_count": null,
      "outputs": []
    },
    {
      "cell_type": "code",
      "metadata": {
        "colab": {
          "base_uri": "https://localhost:8080/"
        },
        "id": "31D_5U85n9tp",
        "outputId": "0f43b444-3d76-484d-f686-25f16219168c"
      },
      "source": [
        "# load required data to data frames\n",
        "stadium_data = pd.read_csv(r\"/content/nfl-datasets/nfl_stadiums.csv\", encoding = \"latin-1\")\n",
        "game_data = pd.read_csv(\"/content/nfl-datasets/spreadspoke_scores.csv\")\n",
        "teams = pd.read_csv('/content/nfl-datasets/nfl_teams.csv')\n",
        "elo = pd.read_csv(\"https://projects.fivethirtyeight.com/nfl-api/nfl_elo.csv\")\n",
        "\n",
        "elo['date'] = pd.to_datetime(elo.loc[:,'date'], infer_datetime_format=True)\n",
        "date_cutoff = pd.to_datetime(\"1966-09-01\")\n",
        "_pre66_mask = (elo['date'] > date_cutoff) \n",
        "elo66 = elo.loc[_pre66_mask]\n",
        "\n",
        "elo66 = elo66.replace({'team1':'OAK', 'team2':'OAK'},  'LVR')\n",
        "\n",
        "\n",
        "# split city and team name into seperate columns\n",
        "new = game_data['team_home'].str.rsplit(\" \", 1, expand = True)\n",
        "game_data[\"home_city\"] = new[0]\n",
        "game_data[\"home_teamname\"] = new[1]\n",
        "new = game_data['team_away'].str.rsplit(\" \", 1, expand = True)\n",
        "game_data[\"away_city\"] = new[0]\n",
        "game_data[\"away_teamname\"] = new[1]\n",
        "\n",
        "# add team id col\n",
        "home_team_id = game_data['team_home'].replace(\n",
        "    teams.set_index('team_name')['team_id'])\n",
        "away_team_id = game_data['team_away'].replace(\n",
        "    teams.set_index('team_name')['team_id'])\n",
        "game_data.insert(4, \"home_team_id\", home_team_id)\n",
        "game_data.insert(5, \"away_team_id\", away_team_id)\n",
        "                     \n",
        "\n",
        "# rearrange column order\n",
        "_temp = game_data[['home_city','home_teamname', 'away_city', 'away_teamname']]\n",
        "game_data.drop(labels=['home_city','home_teamname', 'away_city', 'away_teamname'], axis = 1, inplace= True)\n",
        "for i in range(4):\n",
        "  col_name = _temp.columns[i]\n",
        "  game_data.insert((i + 5),col_name , _temp.iloc[:,i])\n",
        "\n",
        "# convert date to datetime and add string date column\n",
        "game_data['schedule_date'] = pd.to_datetime(game_data['schedule_date'], infer_datetime_format= True)\n",
        "_temp = game_data['schedule_date'].dt.strftime(\"%a %b %d, %Y\")\n",
        "game_data.insert(0, \"date_string\", _temp)\n",
        "\n",
        "# add missing score from superbowl LV\n",
        "_sb_lv_idx = game_data.loc[game_data['schedule_date'] == pd.to_datetime(\"2/7/2021\")].index[0]\n",
        "game_data.iat[_sb_lv_idx, game_data.columns.get_loc(\"score_away\")] = 9 \n",
        "game_data.iat[_sb_lv_idx, game_data.columns.get_loc(\"score_home\")] = 31 \n",
        "\n",
        "# convert scores to integer type\n",
        "game_data[['score_home', 'score_away']] = game_data[['score_home', 'score_away']].astype(np.int64)\n",
        "\n",
        "# create and add result column next to scores 1 = home team wins, 0 = away team wins\n",
        "game_data['result'] = np.where(game_data['score_home'] > game_data['score_away'], 1, 0)\n",
        "_temp = game_data['result']\n",
        "game_data.drop(columns=['result'], inplace=True)\n",
        "game_data.insert(11, \"result\", _temp)\n",
        "\n",
        "# copy stadium names and addresses to new df\n",
        "stadiums = stadium_data[['stadium_name', 'stadium_address' ]]\n",
        "\n",
        "# merge stadium addresses with game_data df, dropping duplicate stadium name col\n",
        "game_data = game_data.merge(stadiums, \"left\", left_on= \"stadium\", right_on=\"stadium_name\",\n",
        "                validate = \"m:1\").drop(\n",
        "                    columns = [\"stadium_name\"])\n",
        "# add stadium address column next to stadium name in game data\n",
        "_temp = game_data['stadium_address']\n",
        "game_data.drop(columns=['stadium_address'], inplace= True)\n",
        "game_data.insert(20, \"address\", _temp)\n",
        "\n",
        "# create distance travelled for\n",
        "game_data[\"dt_for_home\"] = 0\n",
        "game_data[\"dt_for_away\"] = -1\n",
        "\n",
        "# print(\"# of rec without address: \" + str(len(game_data[game_data['address'].isna()])))\n",
        "# print(\"# of stadiums without address: \" + str(len(stadiums[stadiums['stadium_address'].isna()])))\n",
        "# print(stadiums[stadiums['stadium_address'].isna()])\n",
        "\n",
        "# fill missing addresses\n",
        "allegiant_stadium = \"3333 Al Davis Way, Las Vegas, NV 89118, United States\"\n",
        "alltel_stadium = \"1 TIAA Bank Field Dr, Jacksonville, FL 32202, United States\"\n",
        "dolphin_stadium = \"347 Don Shula Dr, Miami Gardens, FL 33056, United States\"\n",
        "jack_murphy = \"9449 Friars Rd, San Diego, CA 92108, United States\"\n",
        "joe_robbie = \"347 Don Shula Dr, Miami Gardens, FL 33056, United States\"\n",
        "merc_benz = \"409 Nelson St SW, Atlanta, GA 30313, United States\"\n",
        "pro_player = \"347 Don Shula Dr, Miami Gardens, FL 33056, United States\"\n",
        "rose_bowl = \"1001 Rose Bowl Dr, Pasadena, CA 91103, United States\"\n",
        "sofi = \"1000 S Prairie Ave, Inglewood, CA 90301, United States\"\n",
        "stanford = \"625 Nelson Rd, Stanford, CA 94305, United States\"\n",
        "tampa = \"4201 N Dale Mabry Hwy, Tampa, FL 33607, United States\"\n",
        "yankee = \"1 E 161 St, The Bronx, NY 10451, United States\"\n",
        "\n",
        "# create list of stadiums with missing/incorrect addresses in game_data\n",
        "missing_stadiums = \"Allegiant Stadium, Alltel Stadium, Dolphin Stadium, Jack Murphy Stadium, Joe Robbie Stadium, Mercedes-Benz Stadium, Pro Player Stadium, Rose Bowl, SoFi Stadium, Stanford Stadium, Tampa Stadium, Yankee Stadium\"\n",
        "missing_stadiums = missing_stadiums.split(\", \")\n",
        "\n",
        "found_addresses = [allegiant_stadium, alltel_stadium, dolphin_stadium,\n",
        "                       jack_murphy, joe_robbie, merc_benz, pro_player,\n",
        "                       rose_bowl, sofi, stanford, tampa, yankee]\n",
        "\n",
        "# dictionary of stadiums and corressponding confirmed address\n",
        "address_mapper = dict(zip(missing_stadiums, found_addresses))\n",
        "\n",
        "# add additional missing/incorrect addresses to dictionary\n",
        "address_mapper['FedEx Field'] = \"1600 Fedex Way, Landover, MD 20785, United States\"\n",
        "address_mapper['Fenway Park'] = \"4 Jersey St, Boston, MA 02215, United States\"\n",
        "address_mapper['Legion Field'] = \"400 Graymont Ave W, Birmingham, AL 35204, United States\"\n",
        "address_mapper['TIAA Bank Field'] = \"1 TIAA Bank Field Dr, Jacksonville, FL 32202, United States\"\n",
        "address_mapper['Tottenham Hotspur Stadium'] = \"782 High Rd, Tottenham, London N17 0BX, United Kingdom\"\n",
        "address_mapper['Tottenham Stadium'] = \"782 High Rd, Tottenham, London N17 0BX, United Kingdom\"\n",
        "\n",
        "# fill in missing addresses and remove zip codes\n",
        "game_data.address = game_data.address.fillna(game_data.stadium.map(address_mapper))\n",
        "game_data['address'] = game_data['address'].apply(remove_zipcode)\n",
        "\n",
        "# fix vikings city \n",
        "vikings_home = (game_data['home_teamname'] == 'Vikings')\n",
        "game_data.loc[vikings_home, 'home_city'] = 'Minneapolis'\n",
        "vikings_away = (game_data['away_teamname'] == 'Vikings')\n",
        "game_data.loc[vikings_away, 'away_city'] = 'Minneapolis'\n",
        "\n",
        "#change to current name\n",
        "giants_stadium = (game_data['stadium'] == 'Giants Stadium')\n",
        "game_data.loc[giants_stadium, 'stadium'] = 'Metlife Stadium'\n",
        "\n",
        "# change to current stadium name\n",
        "dolphin_stadium = (game_data['stadium'] == 'Dolphin Stadium')\n",
        "game_data.loc[dolphin_stadium, 'stadium'] = 'Hard Rock Stadium'\n",
        "\n",
        "# fix remaining home/away_city\n",
        "state_to_city = {'Arizona':'Phoenix', 'Carolina':'Charlotte', \n",
        "                 'New England': 'Foxborough', 'Washington': 'Ashburn',\n",
        "                 'Washington Football': 'Ashburn' }\n",
        "\n",
        "game_data.loc[game_data['home_city'].isin(state_to_city.keys()), 'home_city'] = game_data['home_city'].map(state_to_city)\n",
        "game_data.loc[game_data['away_city'].isin(state_to_city.keys()), 'away_city'] = game_data['away_city'].map(state_to_city)\n",
        "\n",
        "kaggle_game_ids = game_data.apply(lambda x: create_game_id(x['schedule_date'],\n",
        "                                             str(x['home_team_id']), str(x['away_team_id'])), axis = 1)\n",
        "elo66_game_ids = elo66.apply(lambda x: create_game_id(x['date'],\n",
        "                                             str(x['team1']), str(x['team2'])), axis = 1)\n",
        "game_data.insert(0, \"game_id\", kaggle_game_ids)\n",
        "elo66.insert(0, \"game_id\", elo66_game_ids)\n",
        "\n",
        "print(game_data['game_id'].nunique())\n",
        "print(elo66['game_id'].nunique())\n"
      ],
      "execution_count": 17,
      "outputs": [
        {
          "output_type": "stream",
          "text": [
            "12947\n",
            "12989\n"
          ],
          "name": "stdout"
        }
      ]
    },
    {
      "cell_type": "code",
      "metadata": {
        "id": "d_kdwQuMZ7oR"
      },
      "source": [
        "set(game_data['away_city']).union(game_data['home_city'])"
      ],
      "execution_count": null,
      "outputs": []
    },
    {
      "cell_type": "markdown",
      "metadata": {
        "id": "GFNVIMWVlGbD"
      },
      "source": [
        "Import Geopy and calculate Distance for Away Team"
      ]
    },
    {
      "cell_type": "code",
      "metadata": {
        "id": "Vf9TsHgkyDWx"
      },
      "source": [
        "# setup geopy\n",
        "\n",
        "geolocator = Nominatim(user_agent=\"NFL-eda\")\n",
        "geocoder = RateLimiter(geolocator.geocode, min_delay_seconds = 1)\n"
      ],
      "execution_count": 19,
      "outputs": []
    },
    {
      "cell_type": "code",
      "metadata": {
        "id": "KB2jPS2896Kk"
      },
      "source": [
        "point_cache = {}    # to minimize calls to Nominatim\n",
        "\n",
        "'''\n",
        "get_point          -> function to get lat, long of address\n",
        "\n",
        "@param address     -> address to geocode\n",
        "@param point_cache -> dictionary of addresses previously geocoded\n",
        "\n",
        "returns point      -> (tuple) lat, long of address\n",
        "'''\n",
        "def get_point(address, point_cache):\n",
        "  if address in point_cache.keys():\n",
        "    return point_cache.get(address)\n",
        "  else:\n",
        "    geo = geocoder(address)\n",
        "    if geo:\n",
        "      point = tuple([geo.point[0], geo.point[1]])\n",
        "    else:\n",
        "      point = tuple()\n",
        "    \n",
        "    point_cache[address] = point\n",
        "    return point\n",
        "\n",
        "'''\n",
        "get_distance_travelled -> function to calculate distance travelled using geodisc of\n",
        "                           ellipsoid (https://en.wikipedia.org/wiki/Geodesics_on_an_ellipsoid)\n",
        "\n",
        "@param start           -> starting address \n",
        "@param dest            -> destination address\n",
        "@param point_cache     -> dictionary of addresses previously geocoded\n",
        "    \n",
        "returns dist           -> (float)distance between start and dest in miles \n",
        "'''\n",
        "def get_distance_travelled(start, dest, point_cache):  \n",
        "  # get points using get_point\n",
        "  start_point = get_point(start, point_cache)\n",
        "  dest_point = get_point(dest, point_cache)\n",
        "  \n",
        "  # if both points valid calculate distance else return -1\n",
        "  if all(start_point) & all(dest_point):\n",
        "    dist = distance.distance(start_point, dest_point).miles\n",
        "    return dist\n",
        "  else:\n",
        "    return -1"
      ],
      "execution_count": 20,
      "outputs": []
    },
    {
      "cell_type": "code",
      "metadata": {
        "id": "yiRbHmlvuWPM"
      },
      "source": [
        "# change stadium names to current if only renamed, to avoid geocoding errors\n",
        "game_data['stadium'] = game_data.apply(lambda x: \"TIAA Bank Field\" if x['stadium'] == \"Alltel Stadium\" else x['stadium'], axis = 1)\n",
        "game_data['stadium'] = game_data.apply(lambda x: \"TIAA Bank Field\" if x['stadium'] == \"EverBank Field\" else x['stadium'], axis = 1)\n",
        "game_data['address'] = game_data.apply(lambda x: \"South Capitol Avenue, Indianapolis\" if x['stadium'] == \"RCA Dome\" else x['address'], axis = 1)\n"
      ],
      "execution_count": 21,
      "outputs": []
    },
    {
      "cell_type": "code",
      "metadata": {
        "id": "Uo0dM-HN8q2e"
      },
      "source": [
        "# clear cache to ensure no old errenous points are not carried over from previous runs\n",
        "point_cache.clear()\n",
        "\n",
        "# calculate distance travelled by team (approximated by distance from away team city to home stadium)\n",
        "game_data['dt_for_away'] = game_data.apply(lambda x: get_distance_travelled(x['away_city']\n",
        "                                                                            , x['address'],\n",
        "                                                                            point_cache),\n",
        "                                            axis = 1)"
      ],
      "execution_count": null,
      "outputs": []
    },
    {
      "cell_type": "code",
      "metadata": {
        "id": "72r42Xt6lU11"
      },
      "source": [
        "# recalculate distances flagged as errors\n",
        "point_cache.clear()\n",
        "game_data['dt_for_away'] = game_data.apply(lambda x: get_distance_travelled(x['away_city'], x['stadium'], point_cache) if x['dt_for_away'] > 5000 else x['dt_for_away'], axis = 1)"
      ],
      "execution_count": 23,
      "outputs": []
    },
    {
      "cell_type": "code",
      "metadata": {
        "id": "-fBeuyzMLF0g"
      },
      "source": [
        "# investigating large distance\n",
        "print(len(game_data.loc[game_data['dt_for_away'] >= 3100]))\n",
        "game_data.loc[game_data['dt_for_away'] >= 3100]   # expect only UK Games to be output\n"
      ],
      "execution_count": null,
      "outputs": []
    },
    {
      "cell_type": "code",
      "metadata": {
        "id": "jroMkR7zSv7q"
      },
      "source": [
        "# set dual team city games (i.e New York Giants vs New York Jets (both play out of Metlife Stadium)) to 0\n",
        "mask = game_data['dt_for_away'] < 25\n",
        "game_data.loc[mask, 'dt_for_away'] = 0"
      ],
      "execution_count": 25,
      "outputs": []
    },
    {
      "cell_type": "code",
      "metadata": {
        "id": "ArS4cCcTDWhs"
      },
      "source": [
        "# random sampling for error checking\n",
        "# re running this cell displays new random row\n",
        "'''\n",
        "dt_for_away_sanity_checker -> function that prints a random row from df for random spot checking\n",
        "\n",
        "@param game_data           -> game_data data frame\n",
        "\n",
        "returns                    -> None\n",
        "'''\n",
        "def dt_for_away_sanity_checker(game_data):\n",
        "  i = np.random.randint(0, len(game_data))\n",
        "  print(game_data.iloc[i,:])\n",
        "\n",
        "dt_for_away_sanity_checker(game_data)"
      ],
      "execution_count": null,
      "outputs": []
    },
    {
      "cell_type": "markdown",
      "metadata": {
        "id": "1LM-sdoYlSmV"
      },
      "source": [
        "## Analysis of Away Team Distance Travelled"
      ]
    },
    {
      "cell_type": "markdown",
      "metadata": {
        "id": "2k818wKClbFd"
      },
      "source": [
        "### EDA"
      ]
    },
    {
      "cell_type": "code",
      "metadata": {
        "colab": {
          "base_uri": "https://localhost:8080/",
          "height": 283
        },
        "id": "FOy90O2sDspm",
        "outputId": "6a37a95e-0526-485e-f734-66c185df4644"
      },
      "source": [
        "# simple scatter plot for result vs distance travelled\n",
        "plt.scatter(game_data['dt_for_away'], game_data['result'])"
      ],
      "execution_count": 27,
      "outputs": [
        {
          "output_type": "execute_result",
          "data": {
            "text/plain": [
              "<matplotlib.collections.PathCollection at 0x7fa1bfd9bbd0>"
            ]
          },
          "metadata": {
            "tags": []
          },
          "execution_count": 27
        },
        {
          "output_type": "display_data",
          "data": {
            "image/png": "[encoded data removed]",
            "text/plain": [
              "<Figure size 432x288 with 1 Axes>"
            ]
          },
          "metadata": {
            "tags": [],
            "needs_background": "light"
          }
        }
      ]
    },
    {
      "cell_type": "markdown",
      "metadata": {
        "id": "IWovhK-jIxyg"
      },
      "source": [
        "- more losses when 3000 < distance < 5000 (UK Games, \"Home team\" is also travelling, possibly even farther"
      ]
    },
    {
      "cell_type": "markdown",
      "metadata": {
        "id": "gKGqMHLElesb"
      },
      "source": [
        "### ML Model using sklearn Logistic Model"
      ]
    },
    {
      "cell_type": "code",
      "metadata": {
        "id": "4nDw5XYpKRmL"
      },
      "source": [
        "# make a copy of just result and away team distance travelled\n",
        "model_data = game_data.loc[:,[\"result\", \"dt_for_away\"]]\n",
        "model_data\n",
        "\n",
        "# split into train and test (75% train / 25% test)\n",
        "X_train, X_test, y_train, y_test = train_test_split(model_data[['dt_for_away']], model_data.result, test_size = 0.25, random_state = 0) "
      ],
      "execution_count": 28,
      "outputs": []
    },
    {
      "cell_type": "code",
      "metadata": {
        "colab": {
          "base_uri": "https://localhost:8080/"
        },
        "id": "l8y5sjixKkxY",
        "outputId": "ad086b3f-86d0-4946-cbb5-8f4265f9d47b"
      },
      "source": [
        "# fit Logistic Regression ML Model\n",
        "model = LogisticRegression()\n",
        "model.fit(X_train, y_train)"
      ],
      "execution_count": 29,
      "outputs": [
        {
          "output_type": "execute_result",
          "data": {
            "text/plain": [
              "LogisticRegression(C=1.0, class_weight=None, dual=False, fit_intercept=True,\n",
              "                   intercept_scaling=1, l1_ratio=None, max_iter=100,\n",
              "                   multi_class='auto', n_jobs=None, penalty='l2',\n",
              "                   random_state=None, solver='lbfgs', tol=0.0001, verbose=0,\n",
              "                   warm_start=False)"
            ]
          },
          "metadata": {
            "tags": []
          },
          "execution_count": 29
        }
      ]
    },
    {
      "cell_type": "code",
      "metadata": {
        "colab": {
          "base_uri": "https://localhost:8080/"
        },
        "id": "X9MKcsLcLV2q",
        "outputId": "ce6ba77e-2648-42f2-ad73-b1a9036ea118"
      },
      "source": [
        "model.predict(X_test)"
      ],
      "execution_count": 30,
      "outputs": [
        {
          "output_type": "execute_result",
          "data": {
            "text/plain": [
              "array([1, 1, 1, ..., 1, 1, 1])"
            ]
          },
          "metadata": {
            "tags": []
          },
          "execution_count": 30
        }
      ]
    },
    {
      "cell_type": "code",
      "metadata": {
        "colab": {
          "base_uri": "https://localhost:8080/"
        },
        "id": "rzOz5ozqMmnk",
        "outputId": "c3cb5a42-d0ca-4a5e-e673-a76eb0f76edd"
      },
      "source": [
        "log_probs = model.predict_log_proba(X_test)\n",
        "log_probs"
      ],
      "execution_count": 31,
      "outputs": [
        {
          "output_type": "execute_result",
          "data": {
            "text/plain": [
              "array([[-0.84452575, -0.56169993],\n",
              "       [-0.8559398 , -0.55318299],\n",
              "       [-0.83756   , -0.56698192],\n",
              "       ...,\n",
              "       [-0.8359478 , -0.56821369],\n",
              "       [-0.86319702, -0.54785514],\n",
              "       [-0.84047661, -0.56476243]])"
            ]
          },
          "metadata": {
            "tags": []
          },
          "execution_count": 31
        }
      ]
    },
    {
      "cell_type": "code",
      "metadata": {
        "colab": {
          "base_uri": "https://localhost:8080/"
        },
        "id": "25tWX0amQHzy",
        "outputId": "57644c9a-3a06-4c61-93eb-e9c7a3417417"
      },
      "source": [
        "model.predict_proba(X_test)"
      ],
      "execution_count": 32,
      "outputs": [
        {
          "output_type": "execute_result",
          "data": {
            "text/plain": [
              "array([[0.42976113, 0.57023887],\n",
              "       [0.4248837 , 0.5751163 ],\n",
              "       [0.43276518, 0.56723482],\n",
              "       ...,\n",
              "       [0.43346345, 0.56653655],\n",
              "       [0.42181138, 0.57818862],\n",
              "       [0.43150481, 0.56849519]])"
            ]
          },
          "metadata": {
            "tags": []
          },
          "execution_count": 32
        }
      ]
    },
    {
      "cell_type": "code",
      "metadata": {
        "colab": {
          "base_uri": "https://localhost:8080/"
        },
        "id": "sDmCnPwERNmG",
        "outputId": "8c16414f-c993-45cf-8ba5-6483cd660367"
      },
      "source": [
        "model.score(X_test, y_test) * 100"
      ],
      "execution_count": 33,
      "outputs": [
        {
          "output_type": "execute_result",
          "data": {
            "text/plain": [
              "57.738646895273405"
            ]
          },
          "metadata": {
            "tags": []
          },
          "execution_count": 33
        }
      ]
    },
    {
      "cell_type": "markdown",
      "metadata": {
        "id": "zFwz7pkXllW7"
      },
      "source": [
        "### traditional glm logistic regression"
      ]
    },
    {
      "cell_type": "code",
      "metadata": {
        "colab": {
          "base_uri": "https://localhost:8080/",
          "height": 295
        },
        "id": "p_ms_iDCRlNH",
        "outputId": "744e8a92-77f6-41b2-c404-fed73defe4eb"
      },
      "source": [
        "# build traditional GLM LR model; Output reads different but results are the same as in R\n",
        "mod = sm.GLM(model_data['result'], sm.add_constant(model_data['dt_for_away']), family=sm.families.Binomial())\n",
        "mod.fit().summary()"
      ],
      "execution_count": 34,
      "outputs": [
        {
          "output_type": "execute_result",
          "data": {
            "text/html": [
              "<table class=\"simpletable\">\n",
              "<caption>Generalized Linear Model Regression Results</caption>\n",
              "<tr>\n",
              "  <th>Dep. Variable:</th>        <td>result</td>      <th>  No. Observations:  </th>  <td> 12947</td> \n",
              "</tr>\n",
              "<tr>\n",
              "  <th>Model:</th>                  <td>GLM</td>       <th>  Df Residuals:      </th>  <td> 12945</td> \n",
              "</tr>\n",
              "<tr>\n",
              "  <th>Model Family:</th>        <td>Binomial</td>     <th>  Df Model:          </th>  <td>     1</td> \n",
              "</tr>\n",
              "<tr>\n",
              "  <th>Link Function:</th>         <td>logit</td>      <th>  Scale:             </th> <td>  1.0000</td>\n",
              "</tr>\n",
              "<tr>\n",
              "  <th>Method:</th>                <td>IRLS</td>       <th>  Log-Likelihood:    </th> <td> -8836.4</td>\n",
              "</tr>\n",
              "<tr>\n",
              "  <th>Date:</th>            <td>Mon, 12 Apr 2021</td> <th>  Deviance:          </th> <td>  17673.</td>\n",
              "</tr>\n",
              "<tr>\n",
              "  <th>Time:</th>                <td>01:07:33</td>     <th>  Pearson chi2:      </th> <td>1.29e+04</td>\n",
              "</tr>\n",
              "<tr>\n",
              "  <th>No. Iterations:</th>          <td>4</td>        <th>                     </th>     <td> </td>   \n",
              "</tr>\n",
              "<tr>\n",
              "  <th>Covariance Type:</th>     <td>nonrobust</td>    <th>                     </th>     <td> </td>   \n",
              "</tr>\n",
              "</table>\n",
              "<table class=\"simpletable\">\n",
              "<tr>\n",
              "       <td></td>          <th>coef</th>     <th>std err</th>      <th>z</th>      <th>P>|z|</th>  <th>[0.025</th>    <th>0.975]</th>  \n",
              "</tr>\n",
              "<tr>\n",
              "  <th>const</th>       <td>    0.2625</td> <td>    0.032</td> <td>    8.296</td> <td> 0.000</td> <td>    0.200</td> <td>    0.324</td>\n",
              "</tr>\n",
              "<tr>\n",
              "  <th>dt_for_away</th> <td> 3.018e-05</td> <td> 2.62e-05</td> <td>    1.151</td> <td> 0.250</td> <td>-2.12e-05</td> <td> 8.16e-05</td>\n",
              "</tr>\n",
              "</table>"
            ],
            "text/plain": [
              "<class 'statsmodels.iolib.summary.Summary'>\n",
              "\"\"\"\n",
              "                 Generalized Linear Model Regression Results                  \n",
              "==============================================================================\n",
              "Dep. Variable:                 result   No. Observations:                12947\n",
              "Model:                            GLM   Df Residuals:                    12945\n",
              "Model Family:                Binomial   Df Model:                            1\n",
              "Link Function:                  logit   Scale:                          1.0000\n",
              "Method:                          IRLS   Log-Likelihood:                -8836.4\n",
              "Date:                Mon, 12 Apr 2021   Deviance:                       17673.\n",
              "Time:                        01:07:33   Pearson chi2:                 1.29e+04\n",
              "No. Iterations:                     4                                         \n",
              "Covariance Type:            nonrobust                                         \n",
              "===============================================================================\n",
              "                  coef    std err          z      P>|z|      [0.025      0.975]\n",
              "-------------------------------------------------------------------------------\n",
              "const           0.2625      0.032      8.296      0.000       0.200       0.324\n",
              "dt_for_away  3.018e-05   2.62e-05      1.151      0.250   -2.12e-05    8.16e-05\n",
              "===============================================================================\n",
              "\"\"\""
            ]
          },
          "metadata": {
            "tags": []
          },
          "execution_count": 34
        }
      ]
    },
    {
      "cell_type": "markdown",
      "metadata": {
        "id": "ji_Cwp48ALns"
      },
      "source": [
        "#### R Code & Output Using Same Model and Data\n",
        "\n",
        "\n",
        "\n",
        "```{r}\n",
        "mod <- glm(result ~ dt_for_away, data = distance_of_awayteam_data, family = \"binomial\")\n",
        "summary(mod)\n",
        "\n",
        "Call:\n",
        "glm(formula = result ~ dt_for_away, family = \"binomial\", data = distance_of_awayteam_data)\n",
        "\n",
        "Deviance Residuals: \n",
        "   Min      1Q  Median      3Q     Max  \n",
        "-1.357  -1.300   1.046   1.058   1.067  \n",
        "\n",
        "Coefficients:\n",
        "             Estimate Std. Error z value Pr(>|z|)    \n",
        "(Intercept) 2.648e-01  3.183e-02   8.321   <2e-16 ***\n",
        "dt_for_away 2.766e-05  2.630e-05   1.052    0.293    \n",
        "---\n",
        "Signif. codes:  0 ‘***’ 0.001 ‘**’ 0.01 ‘*’ 0.05 ‘.’ 0.1 ‘ ’ 1\n",
        "\n",
        "(Dispersion parameter for binomial family taken to be 1)\n",
        "\n",
        "    Null deviance: 17674  on 12946  degrees of freedom\n",
        "Residual deviance: 17673  on 12945  degrees of freedom\n",
        "AIC: 17677\n",
        "\n",
        "Number of Fisher Scoring iterations: 4\n",
        "```\n",
        "\n"
      ]
    },
    {
      "cell_type": "markdown",
      "metadata": {
        "id": "5qokU1H5A-14"
      },
      "source": [
        "- **above numbers slightly off, invalid rows were found post running this R analysis**\n",
        "- As expected distance travelled alone is not a significant explanatory var on its own\n",
        "- given the large size of distance, try model using log(distance) instead\n",
        "- I believe it is the box-cox test is a formal test for determining what transformation may work best"
      ]
    },
    {
      "cell_type": "markdown",
      "metadata": {
        "id": "FqxbIBVPl_JG"
      },
      "source": [
        "#### log distance column"
      ]
    },
    {
      "cell_type": "code",
      "metadata": {
        "colab": {
          "base_uri": "https://localhost:8080/",
          "height": 295
        },
        "id": "0Vd0L3J0CbDg",
        "outputId": "acd05537-17a6-4ceb-8569-7130c0267114"
      },
      "source": [
        "# create log distance column\n",
        "model_data['log_dist'] = np.log(model_data['dt_for_away'], where = model_data['dt_for_away'] > 0)\n",
        "\n",
        "# create and fit log(distance) model\n",
        "mod2 = sm.GLM(model_data['result'], sm.add_constant(model_data['log_dist']), family=sm.families.Binomial())\n",
        "mod2.fit().summary()"
      ],
      "execution_count": 35,
      "outputs": [
        {
          "output_type": "execute_result",
          "data": {
            "text/html": [
              "<table class=\"simpletable\">\n",
              "<caption>Generalized Linear Model Regression Results</caption>\n",
              "<tr>\n",
              "  <th>Dep. Variable:</th>        <td>result</td>      <th>  No. Observations:  </th>  <td> 12947</td> \n",
              "</tr>\n",
              "<tr>\n",
              "  <th>Model:</th>                  <td>GLM</td>       <th>  Df Residuals:      </th>  <td> 12945</td> \n",
              "</tr>\n",
              "<tr>\n",
              "  <th>Model Family:</th>        <td>Binomial</td>     <th>  Df Model:          </th>  <td>     1</td> \n",
              "</tr>\n",
              "<tr>\n",
              "  <th>Link Function:</th>         <td>logit</td>      <th>  Scale:             </th> <td>  1.0000</td>\n",
              "</tr>\n",
              "<tr>\n",
              "  <th>Method:</th>                <td>IRLS</td>       <th>  Log-Likelihood:    </th> <td> -8834.8</td>\n",
              "</tr>\n",
              "<tr>\n",
              "  <th>Date:</th>            <td>Mon, 12 Apr 2021</td> <th>  Deviance:          </th> <td>  17670.</td>\n",
              "</tr>\n",
              "<tr>\n",
              "  <th>Time:</th>                <td>01:07:33</td>     <th>  Pearson chi2:      </th> <td>1.29e+04</td>\n",
              "</tr>\n",
              "<tr>\n",
              "  <th>No. Iterations:</th>          <td>4</td>        <th>                     </th>     <td> </td>   \n",
              "</tr>\n",
              "<tr>\n",
              "  <th>Covariance Type:</th>     <td>nonrobust</td>    <th>                     </th>     <td> </td>   \n",
              "</tr>\n",
              "</table>\n",
              "<table class=\"simpletable\">\n",
              "<tr>\n",
              "      <td></td>        <th>coef</th>     <th>std err</th>      <th>z</th>      <th>P>|z|</th>  <th>[0.025</th>    <th>0.975]</th>  \n",
              "</tr>\n",
              "<tr>\n",
              "  <th>const</th>    <td>   -0.0029</td> <td>    0.139</td> <td>   -0.021</td> <td> 0.983</td> <td>   -0.276</td> <td>    0.270</td>\n",
              "</tr>\n",
              "<tr>\n",
              "  <th>log_dist</th> <td>    0.0446</td> <td>    0.021</td> <td>    2.139</td> <td> 0.032</td> <td>    0.004</td> <td>    0.086</td>\n",
              "</tr>\n",
              "</table>"
            ],
            "text/plain": [
              "<class 'statsmodels.iolib.summary.Summary'>\n",
              "\"\"\"\n",
              "                 Generalized Linear Model Regression Results                  \n",
              "==============================================================================\n",
              "Dep. Variable:                 result   No. Observations:                12947\n",
              "Model:                            GLM   Df Residuals:                    12945\n",
              "Model Family:                Binomial   Df Model:                            1\n",
              "Link Function:                  logit   Scale:                          1.0000\n",
              "Method:                          IRLS   Log-Likelihood:                -8834.8\n",
              "Date:                Mon, 12 Apr 2021   Deviance:                       17670.\n",
              "Time:                        01:07:33   Pearson chi2:                 1.29e+04\n",
              "No. Iterations:                     4                                         \n",
              "Covariance Type:            nonrobust                                         \n",
              "==============================================================================\n",
              "                 coef    std err          z      P>|z|      [0.025      0.975]\n",
              "------------------------------------------------------------------------------\n",
              "const         -0.0029      0.139     -0.021      0.983      -0.276       0.270\n",
              "log_dist       0.0446      0.021      2.139      0.032       0.004       0.086\n",
              "==============================================================================\n",
              "\"\"\""
            ]
          },
          "metadata": {
            "tags": []
          },
          "execution_count": 35
        }
      ]
    },
    {
      "cell_type": "markdown",
      "metadata": {
        "id": "l_qAysD8DkGv"
      },
      "source": [
        "#### R Code & Output for Model 2 (Log(Distance))\n",
        "\n",
        "\n",
        "\n",
        "```{r}\n",
        "mod2 <- glm(result ~ log(dt_for_away), data = distance_of_awayteam_data, family = \"binomial\")\n",
        "summary(mod2)\n",
        "\n",
        "Call:\n",
        "glm(formula = result ~ log(dt_for_away), family = \"binomial\", \n",
        "    data = distance_of_awayteam_data)\n",
        "\n",
        "Deviance Residuals: \n",
        "   Min      1Q  Median      3Q     Max  \n",
        "-1.340  -1.303   1.040   1.055   1.135  \n",
        "\n",
        "Coefficients:\n",
        "                 Estimate Std. Error z value Pr(>|z|)  \n",
        "(Intercept)       0.01556    0.14391   0.108   0.9139  \n",
        "log(dt_for_away)  0.04175    0.02153   1.940   0.0524 .\n",
        "---\n",
        "Signif. codes:  0 ‘***’ 0.001 ‘**’ 0.01 ‘*’ 0.05 ‘.’ 0.1 ‘ ’ 1\n",
        "\n",
        "(Dispersion parameter for binomial family taken to be 1)\n",
        "\n",
        "    Null deviance: 17674  on 12946  degrees of freedom\n",
        "Residual deviance: 17670  on 12945  degrees of freedom\n",
        "AIC: 17674\n",
        "\n",
        "Number of Fisher Scoring iterations: 4\n",
        "```\n",
        "\n"
      ]
    },
    {
      "cell_type": "markdown",
      "metadata": {
        "id": "IZZvY6XgEvB9"
      },
      "source": [
        "- **above numbers slightly off, invalid rows were found post running this R analysis**\n",
        "- logging the distance seems to have improved the model ever so slighty (see drop in AIC)\n",
        "- log(distance) is significant at $\\alpha$ = 0.1\n",
        "- some, but not much evidence that distance travelled by away team has a positive effect on home team chances of winning a given game\n",
        "- slight difference in results likely due to differences in rounding between programs"
      ]
    },
    {
      "cell_type": "markdown",
      "metadata": {
        "id": "SVMjn5JemP_6"
      },
      "source": [
        "### Export Away Team Distance Analysis"
      ]
    },
    {
      "cell_type": "code",
      "metadata": {
        "id": "9tAUznkuW8IC"
      },
      "source": [
        "# Uncomment below to export to .xlsx\n",
        "# model_data.to_excel(\"distance-of-awayteam-data.xlsx\")\n",
        "# game_data.to_excel(\"NFL_game_data.xlsx\", index_label= \"idx\")"
      ],
      "execution_count": 36,
      "outputs": []
    },
    {
      "cell_type": "markdown",
      "metadata": {
        "id": "wC0QwvSvma0S"
      },
      "source": [
        "## Analysis of Home Team Distance Travelled"
      ]
    },
    {
      "cell_type": "code",
      "metadata": {
        "id": "1LV5g7NTRzOA"
      },
      "source": [
        "_mask = (game_data['stadium_neutral'] == True)\n",
        "neutral_games = game_data[_mask]\n",
        "point_cache.clear()\n",
        "game_data.loc[_mask,'dt_for_home'] =  neutral_games.apply(lambda x: \n",
        "                                                    get_distance_travelled(\n",
        "                                                        x['home_city'],\n",
        "                                                        x['address'],\n",
        "                                                        point_cache),\n",
        "                                                    axis=1)"
      ],
      "execution_count": 37,
      "outputs": []
    },
    {
      "cell_type": "code",
      "metadata": {
        "colab": {
          "base_uri": "https://localhost:8080/"
        },
        "id": "3GcQWvKkTltR",
        "outputId": "41a60b2a-a41f-4af2-8ee4-2b961dae2b00"
      },
      "source": [
        "game_data.dt_for_home.groupby(pd.cut(game_data['dt_for_home'],[0, 50, 100, 1000, 3000,100000])).count()\n"
      ],
      "execution_count": 38,
      "outputs": [
        {
          "output_type": "execute_result",
          "data": {
            "text/plain": [
              "dt_for_home\n",
              "(0, 50]            2\n",
              "(50, 100]          6\n",
              "(100, 1000]       21\n",
              "(1000, 3000]      24\n",
              "(3000, 100000]    46\n",
              "Name: dt_for_home, dtype: int64"
            ]
          },
          "metadata": {
            "tags": []
          },
          "execution_count": 38
        }
      ]
    },
    {
      "cell_type": "code",
      "metadata": {
        "id": "4XJ2U0tSbUmW"
      },
      "source": [
        "incorrect_address_mask = (game_data['dt_for_home'] > 3000)\n",
        "point_cache.clear()\n",
        "game_data.loc[incorrect_address_mask, 'dt_for_home'] = game_data[incorrect_address_mask].apply(lambda x: \n",
        "                                                    get_distance_travelled(\n",
        "                                                        x['home_city'],\n",
        "                                                        x['stadium'],\n",
        "                                                        point_cache),\n",
        "                                                    axis=1) "
      ],
      "execution_count": 39,
      "outputs": []
    },
    {
      "cell_type": "code",
      "metadata": {
        "colab": {
          "base_uri": "https://localhost:8080/"
        },
        "id": "MH348dJ9r-4D",
        "outputId": "6603e144-708f-4ed5-92ae-b9888cd03253"
      },
      "source": [
        "game_data.dt_for_home.groupby(pd.cut(game_data['dt_for_home'],[-1, 25, 100, 1000, 3000,100000])).count()"
      ],
      "execution_count": 41,
      "outputs": [
        {
          "output_type": "execute_result",
          "data": {
            "text/plain": [
              "dt_for_home\n",
              "(-1, 25]          12849\n",
              "(25, 100]             7\n",
              "(100, 1000]          27\n",
              "(1000, 3000]         36\n",
              "(3000, 100000]       28\n",
              "Name: dt_for_home, dtype: int64"
            ]
          },
          "metadata": {
            "tags": []
          },
          "execution_count": 41
        }
      ]
    },
    {
      "cell_type": "code",
      "metadata": {
        "colab": {
          "base_uri": "https://localhost:8080/",
          "height": 1000
        },
        "id": "MvOzZkyPv8Ni",
        "outputId": "4c64db0c-4d8f-402f-aed5-20ce58e82f86"
      },
      "source": [
        "pd.set_option('display.max_rows', None)\n",
        "col_mask = ['home_city', 'away_city', 'stadium', 'address', 'dt_for_home', 'dt_for_away']\n",
        "game_data.loc[(game_data['dt_for_home'] > 1000), col_mask].sort_values(by='dt_for_home', ascending = False)"
      ],
      "execution_count": 46,
      "outputs": [
        {
          "output_type": "execute_result",
          "data": {
            "text/html": [
              "<div>\n",
              "<style scoped>\n",
              "    .dataframe tbody tr th:only-of-type {\n",
              "        vertical-align: middle;\n",
              "    }\n",
              "\n",
              "    .dataframe tbody tr th {\n",
              "        vertical-align: top;\n",
              "    }\n",
              "\n",
              "    .dataframe thead th {\n",
              "        text-align: right;\n",
              "    }\n",
              "</style>\n",
              "<table border=\"1\" class=\"dataframe\">\n",
              "  <thead>\n",
              "    <tr style=\"text-align: right;\">\n",
              "      <th></th>\n",
              "      <th>home_city</th>\n",
              "      <th>away_city</th>\n",
              "      <th>stadium</th>\n",
              "      <th>address</th>\n",
              "      <th>dt_for_home</th>\n",
              "      <th>dt_for_away</th>\n",
              "    </tr>\n",
              "  </thead>\n",
              "  <tbody>\n",
              "    <tr>\n",
              "      <th>11975</th>\n",
              "      <td>Los Angeles</td>\n",
              "      <td>Phoenix</td>\n",
              "      <td>Twickenham Stadium</td>\n",
              "      <td>200 Whitton Road, TW2 7BA, London, UK</td>\n",
              "      <td>5448.926695</td>\n",
              "      <td>5277.157425</td>\n",
              "    </tr>\n",
              "    <tr>\n",
              "      <th>11709</th>\n",
              "      <td>Los Angeles</td>\n",
              "      <td>New York</td>\n",
              "      <td>Twickenham Stadium</td>\n",
              "      <td>200 Whitton Road, TW2 7BA, London, UK</td>\n",
              "      <td>5448.926695</td>\n",
              "      <td>3462.870883</td>\n",
              "    </tr>\n",
              "    <tr>\n",
              "      <th>12526</th>\n",
              "      <td>Los Angeles</td>\n",
              "      <td>Cincinnati</td>\n",
              "      <td>Wembley Stadium</td>\n",
              "      <td>Wembley, London HA9 0WS, United Kingdom</td>\n",
              "      <td>5446.312271</td>\n",
              "      <td>3958.448606</td>\n",
              "    </tr>\n",
              "    <tr>\n",
              "      <th>12243</th>\n",
              "      <td>Los Angeles</td>\n",
              "      <td>Tennessee</td>\n",
              "      <td>Wembley Stadium</td>\n",
              "      <td>Wembley, London HA9 0WS, United Kingdom</td>\n",
              "      <td>5446.312271</td>\n",
              "      <td>4187.081133</td>\n",
              "    </tr>\n",
              "    <tr>\n",
              "      <th>10122</th>\n",
              "      <td>San Francisco</td>\n",
              "      <td>Denver</td>\n",
              "      <td>Wembley Stadium</td>\n",
              "      <td>Wembley, London HA9 0WS, United Kingdom</td>\n",
              "      <td>5360.699264</td>\n",
              "      <td>4690.243069</td>\n",
              "    </tr>\n",
              "    <tr>\n",
              "      <th>12483</th>\n",
              "      <td>Oakland</td>\n",
              "      <td>Chicago</td>\n",
              "      <td>Tottenham Hotspur Stadium</td>\n",
              "      <td>782 High Rd, Tottenham, London N17 0BX, United...</td>\n",
              "      <td>5358.710787</td>\n",
              "      <td>3957.978905</td>\n",
              "    </tr>\n",
              "    <tr>\n",
              "      <th>12233</th>\n",
              "      <td>Oakland</td>\n",
              "      <td>Seattle</td>\n",
              "      <td>Tottenham Stadium</td>\n",
              "      <td>782 High Rd, Tottenham, London N17 0BX, United...</td>\n",
              "      <td>5358.710787</td>\n",
              "      <td>4795.703110</td>\n",
              "    </tr>\n",
              "    <tr>\n",
              "      <th>11132</th>\n",
              "      <td>Oakland</td>\n",
              "      <td>Miami</td>\n",
              "      <td>Wembley Stadium</td>\n",
              "      <td>Wembley, London HA9 0WS, United Kingdom</td>\n",
              "      <td>5354.832403</td>\n",
              "      <td>4427.874353</td>\n",
              "    </tr>\n",
              "    <tr>\n",
              "      <th>9584</th>\n",
              "      <td>New Orleans</td>\n",
              "      <td>San Diego</td>\n",
              "      <td>Wembley Stadium</td>\n",
              "      <td>Wembley, London HA9 0WS, United Kingdom</td>\n",
              "      <td>4629.241217</td>\n",
              "      <td>5487.333943</td>\n",
              "    </tr>\n",
              "    <tr>\n",
              "      <th>12501</th>\n",
              "      <td>Tampa Bay</td>\n",
              "      <td>Charlotte</td>\n",
              "      <td>Tottenham Hotspur Stadium</td>\n",
              "      <td>782 High Rd, Tottenham, London N17 0BX, United...</td>\n",
              "      <td>4441.205782</td>\n",
              "      <td>4000.820063</td>\n",
              "    </tr>\n",
              "    <tr>\n",
              "      <th>10375</th>\n",
              "      <td>Tampa Bay</td>\n",
              "      <td>Chicago</td>\n",
              "      <td>Wembley Stadium</td>\n",
              "      <td>Wembley, London HA9 0WS, United Kingdom</td>\n",
              "      <td>4432.974218</td>\n",
              "      <td>3950.571820</td>\n",
              "    </tr>\n",
              "    <tr>\n",
              "      <th>9842</th>\n",
              "      <td>Tampa Bay</td>\n",
              "      <td>Foxborough</td>\n",
              "      <td>Wembley Stadium</td>\n",
              "      <td>Wembley, London HA9 0WS, United Kingdom</td>\n",
              "      <td>4432.974218</td>\n",
              "      <td>3292.214156</td>\n",
              "    </tr>\n",
              "    <tr>\n",
              "      <th>9313</th>\n",
              "      <td>Miami</td>\n",
              "      <td>New York</td>\n",
              "      <td>Wembley Stadium</td>\n",
              "      <td>Wembley, London HA9 0WS, United Kingdom</td>\n",
              "      <td>4428.527773</td>\n",
              "      <td>3462.637833</td>\n",
              "    </tr>\n",
              "    <tr>\n",
              "      <th>11399</th>\n",
              "      <td>Miami</td>\n",
              "      <td>New York</td>\n",
              "      <td>Wembley Stadium</td>\n",
              "      <td>Wembley, London HA9 0WS, United Kingdom</td>\n",
              "      <td>4428.527773</td>\n",
              "      <td>3462.637833</td>\n",
              "    </tr>\n",
              "    <tr>\n",
              "      <th>11933</th>\n",
              "      <td>Miami</td>\n",
              "      <td>New Orleans</td>\n",
              "      <td>Wembley Stadium</td>\n",
              "      <td>Wembley, London HA9 0WS, United Kingdom</td>\n",
              "      <td>4428.527773</td>\n",
              "      <td>4628.653215</td>\n",
              "    </tr>\n",
              "    <tr>\n",
              "      <th>11456</th>\n",
              "      <td>Kansas City</td>\n",
              "      <td>Detroit</td>\n",
              "      <td>Wembley Stadium</td>\n",
              "      <td>Wembley, London HA9 0WS, United Kingdom</td>\n",
              "      <td>4347.458511</td>\n",
              "      <td>3753.110333</td>\n",
              "    </tr>\n",
              "    <tr>\n",
              "      <th>11438</th>\n",
              "      <td>Jacksonville</td>\n",
              "      <td>Buffalo</td>\n",
              "      <td>Wembley Stadium</td>\n",
              "      <td>Wembley, London HA9 0WS, United Kingdom</td>\n",
              "      <td>4263.231981</td>\n",
              "      <td>3564.963411</td>\n",
              "    </tr>\n",
              "    <tr>\n",
              "      <th>11664</th>\n",
              "      <td>Jacksonville</td>\n",
              "      <td>Indianapolis</td>\n",
              "      <td>Wembley Stadium</td>\n",
              "      <td>Wembley, London HA9 0WS, United Kingdom</td>\n",
              "      <td>4263.231981</td>\n",
              "      <td>3992.066372</td>\n",
              "    </tr>\n",
              "    <tr>\n",
              "      <th>10921</th>\n",
              "      <td>Jacksonville</td>\n",
              "      <td>San Francisco</td>\n",
              "      <td>Wembley Stadium</td>\n",
              "      <td>Wembley, London HA9 0WS, United Kingdom</td>\n",
              "      <td>4263.231981</td>\n",
              "      <td>5360.699264</td>\n",
              "    </tr>\n",
              "    <tr>\n",
              "      <th>11216</th>\n",
              "      <td>Jacksonville</td>\n",
              "      <td>Dallas</td>\n",
              "      <td>Wembley Stadium</td>\n",
              "      <td>Wembley, London HA9 0WS, United Kingdom</td>\n",
              "      <td>4263.231981</td>\n",
              "      <td>4751.064359</td>\n",
              "    </tr>\n",
              "    <tr>\n",
              "      <th>11915</th>\n",
              "      <td>Jacksonville</td>\n",
              "      <td>Baltimore</td>\n",
              "      <td>Wembley Stadium</td>\n",
              "      <td>Wembley, London HA9 0WS, United Kingdom</td>\n",
              "      <td>4263.231981</td>\n",
              "      <td>3631.658317</td>\n",
              "    </tr>\n",
              "    <tr>\n",
              "      <th>12537</th>\n",
              "      <td>Jacksonville</td>\n",
              "      <td>Houston</td>\n",
              "      <td>Wembley Stadium</td>\n",
              "      <td>Wembley, London HA9 0WS, United Kingdom</td>\n",
              "      <td>4263.231981</td>\n",
              "      <td>4850.994014</td>\n",
              "    </tr>\n",
              "    <tr>\n",
              "      <th>12257</th>\n",
              "      <td>Jacksonville</td>\n",
              "      <td>Philadelphia</td>\n",
              "      <td>Wembley Stadium</td>\n",
              "      <td>Wembley, London HA9 0WS, United Kingdom</td>\n",
              "      <td>4263.231981</td>\n",
              "      <td>3543.142245</td>\n",
              "    </tr>\n",
              "    <tr>\n",
              "      <th>11184</th>\n",
              "      <td>Atlanta</td>\n",
              "      <td>Detroit</td>\n",
              "      <td>Wembley Stadium</td>\n",
              "      <td>Wembley, London HA9 0WS, United Kingdom</td>\n",
              "      <td>4209.187055</td>\n",
              "      <td>3753.110333</td>\n",
              "    </tr>\n",
              "    <tr>\n",
              "      <th>10657</th>\n",
              "      <td>St. Louis</td>\n",
              "      <td>Foxborough</td>\n",
              "      <td>Wembley Stadium</td>\n",
              "      <td>Wembley, London HA9 0WS, United Kingdom</td>\n",
              "      <td>4204.300208</td>\n",
              "      <td>3292.214156</td>\n",
              "    </tr>\n",
              "    <tr>\n",
              "      <th>10866</th>\n",
              "      <td>Minneapolis</td>\n",
              "      <td>Pittsburgh</td>\n",
              "      <td>Wembley Stadium</td>\n",
              "      <td>Wembley, London HA9 0WS, United Kingdom</td>\n",
              "      <td>4015.544582</td>\n",
              "      <td>3716.971447</td>\n",
              "    </tr>\n",
              "    <tr>\n",
              "      <th>11721</th>\n",
              "      <td>Cincinnati</td>\n",
              "      <td>Ashburn</td>\n",
              "      <td>Wembley Stadium</td>\n",
              "      <td>Wembley, London HA9 0WS, United Kingdom</td>\n",
              "      <td>3959.008697</td>\n",
              "      <td>3678.424132</td>\n",
              "    </tr>\n",
              "    <tr>\n",
              "      <th>11986</th>\n",
              "      <td>Cleveland</td>\n",
              "      <td>Minneapolis</td>\n",
              "      <td>Twickenham Stadium</td>\n",
              "      <td>200 Whitton Road, TW2 7BA, London, UK</td>\n",
              "      <td>3737.933954</td>\n",
              "      <td>4017.183408</td>\n",
              "    </tr>\n",
              "    <tr>\n",
              "      <th>4272</th>\n",
              "      <td>New York</td>\n",
              "      <td>Denver</td>\n",
              "      <td>Rose Bowl</td>\n",
              "      <td>1001 Rose Bowl Dr, Pasadena, CA , United States</td>\n",
              "      <td>2443.760159</td>\n",
              "      <td>823.421487</td>\n",
              "    </tr>\n",
              "    <tr>\n",
              "      <th>1294</th>\n",
              "      <td>Miami</td>\n",
              "      <td>Ashburn</td>\n",
              "      <td>Los Angeles Memorial Coliseum</td>\n",
              "      <td>3911 S Figueroa St, Los Angeles, CA</td>\n",
              "      <td>2340.450188</td>\n",
              "      <td>2282.547564</td>\n",
              "    </tr>\n",
              "    <tr>\n",
              "      <th>3340</th>\n",
              "      <td>Miami</td>\n",
              "      <td>Ashburn</td>\n",
              "      <td>Rose Bowl</td>\n",
              "      <td>1001 Rose Bowl Dr, Pasadena, CA , United States</td>\n",
              "      <td>2335.058080</td>\n",
              "      <td>2268.408134</td>\n",
              "    </tr>\n",
              "    <tr>\n",
              "      <th>9473</th>\n",
              "      <td>Foxborough</td>\n",
              "      <td>New York</td>\n",
              "      <td>University of Phoenix Stadium</td>\n",
              "      <td>1 Cardinals Dr, Glendale, AZ</td>\n",
              "      <td>2296.971441</td>\n",
              "      <td>2152.000305</td>\n",
              "    </tr>\n",
              "    <tr>\n",
              "      <th>11342</th>\n",
              "      <td>Foxborough</td>\n",
              "      <td>Seattle</td>\n",
              "      <td>University of Phoenix Stadium</td>\n",
              "      <td>1 Cardinals Dr, Glendale, AZ</td>\n",
              "      <td>2296.971441</td>\n",
              "      <td>1104.019240</td>\n",
              "    </tr>\n",
              "    <tr>\n",
              "      <th>3199</th>\n",
              "      <td>San Francisco</td>\n",
              "      <td>Cincinnati</td>\n",
              "      <td>Pontiac Silverdome</td>\n",
              "      <td>1200 Featherstone Rd, Pontiac, MI</td>\n",
              "      <td>2079.774776</td>\n",
              "      <td>253.504140</td>\n",
              "    </tr>\n",
              "    <tr>\n",
              "      <th>12410</th>\n",
              "      <td>Los Angeles</td>\n",
              "      <td>Foxborough</td>\n",
              "      <td>Mercedes-Benz Stadium</td>\n",
              "      <td>409 Nelson St SW, Atlanta, GA , United States</td>\n",
              "      <td>1935.988635</td>\n",
              "      <td>917.645820</td>\n",
              "    </tr>\n",
              "    <tr>\n",
              "      <th>10808</th>\n",
              "      <td>San Francisco</td>\n",
              "      <td>Baltimore</td>\n",
              "      <td>Mercedes-Benz Superdome</td>\n",
              "      <td>1500 Sugar Bowl Dr, New Orleans, LA</td>\n",
              "      <td>1925.164270</td>\n",
              "      <td>999.870116</td>\n",
              "    </tr>\n",
              "    <tr>\n",
              "      <th>4915</th>\n",
              "      <td>San Francisco</td>\n",
              "      <td>Denver</td>\n",
              "      <td>Louisiana Superdome</td>\n",
              "      <td>1500 Sugar Bowl Dr, New Orleans, LA</td>\n",
              "      <td>1925.164270</td>\n",
              "      <td>1080.244050</td>\n",
              "    </tr>\n",
              "    <tr>\n",
              "      <th>2966</th>\n",
              "      <td>Oakland</td>\n",
              "      <td>Philadelphia</td>\n",
              "      <td>Louisiana Superdome</td>\n",
              "      <td>1500 Sugar Bowl Dr, New Orleans, LA</td>\n",
              "      <td>1917.291474</td>\n",
              "      <td>1089.269153</td>\n",
              "    </tr>\n",
              "    <tr>\n",
              "      <th>12035</th>\n",
              "      <td>Oakland</td>\n",
              "      <td>Foxborough</td>\n",
              "      <td>Estadio Azteca</td>\n",
              "      <td>Calz. de Tlalpan 3465, Sta. _rsula Coapa, Coy...</td>\n",
              "      <td>1887.071311</td>\n",
              "      <td>2264.721726</td>\n",
              "    </tr>\n",
              "    <tr>\n",
              "      <th>11770</th>\n",
              "      <td>Oakland</td>\n",
              "      <td>Houston</td>\n",
              "      <td>Estadio Azteca</td>\n",
              "      <td>Calz. de Tlalpan 3465, Sta. _rsula Coapa, Coy...</td>\n",
              "      <td>1887.071311</td>\n",
              "      <td>757.881054</td>\n",
              "    </tr>\n",
              "    <tr>\n",
              "      <th>9740</th>\n",
              "      <td>Phoenix</td>\n",
              "      <td>Pittsburgh</td>\n",
              "      <td>Raymond James Stadium</td>\n",
              "      <td>4201 N Dale Mabry Hwy, Tampa, FL</td>\n",
              "      <td>1793.058601</td>\n",
              "      <td>869.905568</td>\n",
              "    </tr>\n",
              "    <tr>\n",
              "      <th>170</th>\n",
              "      <td>Green Bay</td>\n",
              "      <td>Kansas City</td>\n",
              "      <td>Los Angeles Memorial Coliseum</td>\n",
              "      <td>3911 S Figueroa St, Los Angeles, CA</td>\n",
              "      <td>1770.712208</td>\n",
              "      <td>1364.562510</td>\n",
              "    </tr>\n",
              "    <tr>\n",
              "      <th>6843</th>\n",
              "      <td>Green Bay</td>\n",
              "      <td>Denver</td>\n",
              "      <td>Qualcomm Stadium</td>\n",
              "      <td>9449 Friars Rd, San Diego, CA</td>\n",
              "      <td>1757.124961</td>\n",
              "      <td>829.010900</td>\n",
              "    </tr>\n",
              "    <tr>\n",
              "      <th>7094</th>\n",
              "      <td>Denver</td>\n",
              "      <td>Atlanta</td>\n",
              "      <td>Pro Player Stadium</td>\n",
              "      <td>347 Don Shula Dr, Miami Gardens, FL , United S...</td>\n",
              "      <td>1715.137164</td>\n",
              "      <td>591.541861</td>\n",
              "    </tr>\n",
              "    <tr>\n",
              "      <th>11075</th>\n",
              "      <td>Denver</td>\n",
              "      <td>Seattle</td>\n",
              "      <td>MetLife Stadium</td>\n",
              "      <td>1 MetLife Stadium Dr, East Rutherford, NJ</td>\n",
              "      <td>1626.725190</td>\n",
              "      <td>2401.701828</td>\n",
              "    </tr>\n",
              "    <tr>\n",
              "      <th>11876</th>\n",
              "      <td>Foxborough</td>\n",
              "      <td>Atlanta</td>\n",
              "      <td>NRG Stadium</td>\n",
              "      <td>NRG Pkwy, Houston, TX</td>\n",
              "      <td>1593.383944</td>\n",
              "      <td>706.257072</td>\n",
              "    </tr>\n",
              "    <tr>\n",
              "      <th>8405</th>\n",
              "      <td>Foxborough</td>\n",
              "      <td>Charlotte</td>\n",
              "      <td>Reliant Stadium</td>\n",
              "      <td>NRG Pkwy, Houston, TX</td>\n",
              "      <td>1593.383944</td>\n",
              "      <td>931.475138</td>\n",
              "    </tr>\n",
              "    <tr>\n",
              "      <th>4682</th>\n",
              "      <td>San Francisco</td>\n",
              "      <td>Cincinnati</td>\n",
              "      <td>Joe Robbie Stadium</td>\n",
              "      <td>347 Don Shula Dr, Miami Gardens, FL , United S...</td>\n",
              "      <td>1588.658994</td>\n",
              "      <td>603.129510</td>\n",
              "    </tr>\n",
              "    <tr>\n",
              "      <th>6090</th>\n",
              "      <td>San Francisco</td>\n",
              "      <td>San Diego</td>\n",
              "      <td>Joe Robbie Stadium</td>\n",
              "      <td>347 Don Shula Dr, Miami Gardens, FL , United S...</td>\n",
              "      <td>1588.658994</td>\n",
              "      <td>1536.463375</td>\n",
              "    </tr>\n",
              "    <tr>\n",
              "      <th>12572</th>\n",
              "      <td>Los Angeles</td>\n",
              "      <td>Kansas City</td>\n",
              "      <td>Estadio Azteca</td>\n",
              "      <td>Calz. de Tlalpan 3465, Sta. _rsula Coapa, Coy...</td>\n",
              "      <td>1552.270018</td>\n",
              "      <td>1390.719974</td>\n",
              "    </tr>\n",
              "    <tr>\n",
              "      <th>2064</th>\n",
              "      <td>Minneapolis</td>\n",
              "      <td>Oakland</td>\n",
              "      <td>Rose Bowl</td>\n",
              "      <td>1001 Rose Bowl Dr, Pasadena, CA , United States</td>\n",
              "      <td>1515.481762</td>\n",
              "      <td>340.442836</td>\n",
              "    </tr>\n",
              "    <tr>\n",
              "      <th>350</th>\n",
              "      <td>Green Bay</td>\n",
              "      <td>Oakland</td>\n",
              "      <td>Orange Bowl</td>\n",
              "      <td>1501 NW 3rd St, Miami, FL</td>\n",
              "      <td>1363.322724</td>\n",
              "      <td>2585.131619</td>\n",
              "    </tr>\n",
              "    <tr>\n",
              "      <th>8719</th>\n",
              "      <td>Phoenix</td>\n",
              "      <td>San Francisco</td>\n",
              "      <td>Estadio Azteca</td>\n",
              "      <td>Calz. de Tlalpan 3465, Sta. _rsula Coapa, Coy...</td>\n",
              "      <td>1258.744990</td>\n",
              "      <td>1892.630440</td>\n",
              "    </tr>\n",
              "    <tr>\n",
              "      <th>5620</th>\n",
              "      <td>Dallas</td>\n",
              "      <td>Buffalo</td>\n",
              "      <td>Rose Bowl</td>\n",
              "      <td>1001 Rose Bowl Dr, Pasadena, CA , United States</td>\n",
              "      <td>1235.694950</td>\n",
              "      <td>2190.398705</td>\n",
              "    </tr>\n",
              "    <tr>\n",
              "      <th>12677</th>\n",
              "      <td>Kansas City</td>\n",
              "      <td>San Francisco</td>\n",
              "      <td>Hard Rock Stadium</td>\n",
              "      <td>347 Don Shula Dr, Miami Gardens, FL</td>\n",
              "      <td>1230.003353</td>\n",
              "      <td>2585.929550</td>\n",
              "    </tr>\n",
              "    <tr>\n",
              "      <th>12143</th>\n",
              "      <td>Foxborough</td>\n",
              "      <td>Philadelphia</td>\n",
              "      <td>U.S. Bank Stadium</td>\n",
              "      <td>401 Chicago Ave, Minneapolis, MN</td>\n",
              "      <td>1120.162461</td>\n",
              "      <td>984.928649</td>\n",
              "    </tr>\n",
              "    <tr>\n",
              "      <th>2500</th>\n",
              "      <td>Dallas</td>\n",
              "      <td>Pittsburgh</td>\n",
              "      <td>Orange Bowl</td>\n",
              "      <td>1501 NW 3rd St, Miami, FL</td>\n",
              "      <td>1109.183357</td>\n",
              "      <td>1010.757896</td>\n",
              "    </tr>\n",
              "    <tr>\n",
              "      <th>1861</th>\n",
              "      <td>Dallas</td>\n",
              "      <td>Pittsburgh</td>\n",
              "      <td>Orange Bowl</td>\n",
              "      <td>1501 NW 3rd St, Miami, FL</td>\n",
              "      <td>1109.183357</td>\n",
              "      <td>1010.757896</td>\n",
              "    </tr>\n",
              "    <tr>\n",
              "      <th>1672</th>\n",
              "      <td>Minneapolis</td>\n",
              "      <td>Pittsburgh</td>\n",
              "      <td>Tulane Stadium</td>\n",
              "      <td>Willow St. &amp; Audubon Blvd., New Orleans, LA</td>\n",
              "      <td>1109.118436</td>\n",
              "      <td>1293.379337</td>\n",
              "    </tr>\n",
              "    <tr>\n",
              "      <th>369</th>\n",
              "      <td>Boston</td>\n",
              "      <td>New York</td>\n",
              "      <td>Legion Field</td>\n",
              "      <td>400 Graymont Ave W, Birmingham, AL , United St...</td>\n",
              "      <td>1053.587562</td>\n",
              "      <td>864.152981</td>\n",
              "    </tr>\n",
              "    <tr>\n",
              "      <th>5150</th>\n",
              "      <td>Buffalo</td>\n",
              "      <td>New York</td>\n",
              "      <td>Tampa Stadium</td>\n",
              "      <td>4201 N Dale Mabry Hwy, Tampa, FL , United States</td>\n",
              "      <td>1046.659931</td>\n",
              "      <td>1001.114127</td>\n",
              "    </tr>\n",
              "    <tr>\n",
              "      <th>9206</th>\n",
              "      <td>Indianapolis</td>\n",
              "      <td>Chicago</td>\n",
              "      <td>Hard Rock Stadium</td>\n",
              "      <td>347 Don Shula Dr, Miami Gardens, FL , United S...</td>\n",
              "      <td>1011.411782</td>\n",
              "      <td>1175.139956</td>\n",
              "    </tr>\n",
              "    <tr>\n",
              "      <th>10007</th>\n",
              "      <td>Indianapolis</td>\n",
              "      <td>New Orleans</td>\n",
              "      <td>Sun Life Stadium</td>\n",
              "      <td>347 Don Shula Dr, Miami Gardens, FL</td>\n",
              "      <td>1011.411782</td>\n",
              "      <td>660.653149</td>\n",
              "    </tr>\n",
              "    <tr>\n",
              "      <th>6592</th>\n",
              "      <td>Green Bay</td>\n",
              "      <td>Foxborough</td>\n",
              "      <td>Louisiana Superdome</td>\n",
              "      <td>1500 Sugar Bowl Dr, New Orleans, LA</td>\n",
              "      <td>1010.565798</td>\n",
              "      <td>1340.381303</td>\n",
              "    </tr>\n",
              "  </tbody>\n",
              "</table>\n",
              "</div>"
            ],
            "text/plain": [
              "           home_city      away_city  ...  dt_for_home  dt_for_away\n",
              "11975    Los Angeles        Phoenix  ...  5448.926695  5277.157425\n",
              "11709    Los Angeles       New York  ...  5448.926695  3462.870883\n",
              "12526    Los Angeles     Cincinnati  ...  5446.312271  3958.448606\n",
              "12243    Los Angeles      Tennessee  ...  5446.312271  4187.081133\n",
              "10122  San Francisco         Denver  ...  5360.699264  4690.243069\n",
              "12483        Oakland        Chicago  ...  5358.710787  3957.978905\n",
              "12233        Oakland        Seattle  ...  5358.710787  4795.703110\n",
              "11132        Oakland          Miami  ...  5354.832403  4427.874353\n",
              "9584     New Orleans      San Diego  ...  4629.241217  5487.333943\n",
              "12501      Tampa Bay      Charlotte  ...  4441.205782  4000.820063\n",
              "10375      Tampa Bay        Chicago  ...  4432.974218  3950.571820\n",
              "9842       Tampa Bay     Foxborough  ...  4432.974218  3292.214156\n",
              "9313           Miami       New York  ...  4428.527773  3462.637833\n",
              "11399          Miami       New York  ...  4428.527773  3462.637833\n",
              "11933          Miami    New Orleans  ...  4428.527773  4628.653215\n",
              "11456    Kansas City        Detroit  ...  4347.458511  3753.110333\n",
              "11438   Jacksonville        Buffalo  ...  4263.231981  3564.963411\n",
              "11664   Jacksonville   Indianapolis  ...  4263.231981  3992.066372\n",
              "10921   Jacksonville  San Francisco  ...  4263.231981  5360.699264\n",
              "11216   Jacksonville         Dallas  ...  4263.231981  4751.064359\n",
              "11915   Jacksonville      Baltimore  ...  4263.231981  3631.658317\n",
              "12537   Jacksonville        Houston  ...  4263.231981  4850.994014\n",
              "12257   Jacksonville   Philadelphia  ...  4263.231981  3543.142245\n",
              "11184        Atlanta        Detroit  ...  4209.187055  3753.110333\n",
              "10657      St. Louis     Foxborough  ...  4204.300208  3292.214156\n",
              "10866    Minneapolis     Pittsburgh  ...  4015.544582  3716.971447\n",
              "11721     Cincinnati        Ashburn  ...  3959.008697  3678.424132\n",
              "11986      Cleveland    Minneapolis  ...  3737.933954  4017.183408\n",
              "4272        New York         Denver  ...  2443.760159   823.421487\n",
              "1294           Miami        Ashburn  ...  2340.450188  2282.547564\n",
              "3340           Miami        Ashburn  ...  2335.058080  2268.408134\n",
              "9473      Foxborough       New York  ...  2296.971441  2152.000305\n",
              "11342     Foxborough        Seattle  ...  2296.971441  1104.019240\n",
              "3199   San Francisco     Cincinnati  ...  2079.774776   253.504140\n",
              "12410    Los Angeles     Foxborough  ...  1935.988635   917.645820\n",
              "10808  San Francisco      Baltimore  ...  1925.164270   999.870116\n",
              "4915   San Francisco         Denver  ...  1925.164270  1080.244050\n",
              "2966         Oakland   Philadelphia  ...  1917.291474  1089.269153\n",
              "12035        Oakland     Foxborough  ...  1887.071311  2264.721726\n",
              "11770        Oakland        Houston  ...  1887.071311   757.881054\n",
              "9740         Phoenix     Pittsburgh  ...  1793.058601   869.905568\n",
              "170        Green Bay    Kansas City  ...  1770.712208  1364.562510\n",
              "6843       Green Bay         Denver  ...  1757.124961   829.010900\n",
              "7094          Denver        Atlanta  ...  1715.137164   591.541861\n",
              "11075         Denver        Seattle  ...  1626.725190  2401.701828\n",
              "11876     Foxborough        Atlanta  ...  1593.383944   706.257072\n",
              "8405      Foxborough      Charlotte  ...  1593.383944   931.475138\n",
              "4682   San Francisco     Cincinnati  ...  1588.658994   603.129510\n",
              "6090   San Francisco      San Diego  ...  1588.658994  1536.463375\n",
              "12572    Los Angeles    Kansas City  ...  1552.270018  1390.719974\n",
              "2064     Minneapolis        Oakland  ...  1515.481762   340.442836\n",
              "350        Green Bay        Oakland  ...  1363.322724  2585.131619\n",
              "8719         Phoenix  San Francisco  ...  1258.744990  1892.630440\n",
              "5620          Dallas        Buffalo  ...  1235.694950  2190.398705\n",
              "12677    Kansas City  San Francisco  ...  1230.003353  2585.929550\n",
              "12143     Foxborough   Philadelphia  ...  1120.162461   984.928649\n",
              "2500          Dallas     Pittsburgh  ...  1109.183357  1010.757896\n",
              "1861          Dallas     Pittsburgh  ...  1109.183357  1010.757896\n",
              "1672     Minneapolis     Pittsburgh  ...  1109.118436  1293.379337\n",
              "369           Boston       New York  ...  1053.587562   864.152981\n",
              "5150         Buffalo       New York  ...  1046.659931  1001.114127\n",
              "9206    Indianapolis        Chicago  ...  1011.411782  1175.139956\n",
              "10007   Indianapolis    New Orleans  ...  1011.411782   660.653149\n",
              "6592       Green Bay     Foxborough  ...  1010.565798  1340.381303\n",
              "\n",
              "[64 rows x 6 columns]"
            ]
          },
          "metadata": {
            "tags": []
          },
          "execution_count": 46
        }
      ]
    },
    {
      "cell_type": "code",
      "metadata": {
        "id": "wkDOWpKJwAX-"
      },
      "source": [
        "# set distance less than 50 miles to zero (teams in same area i.e Giants/Jets)\n",
        "game_data.loc[game_data['dt_for_away'] < 51, 'dt_for_away'] = 0\n"
      ],
      "execution_count": 47,
      "outputs": []
    },
    {
      "cell_type": "markdown",
      "metadata": {
        "id": "Ah53cG-g0qAH"
      },
      "source": [
        "## get bearings "
      ]
    },
    {
      "cell_type": "code",
      "metadata": {
        "id": "6zqano7-3k6Z"
      },
      "source": [
        "'''\n",
        "get_bearing            -> function to calculate bearing of travel\n",
        "                           \n",
        "\n",
        "@param start           -> starting address \n",
        "@param dest            -> destination address\n",
        "@param point_cache     -> dictionary of addresses previously geocoded\n",
        "    \n",
        "returns dist           -> (float)distance between start and dest in miles \n",
        "'''\n",
        "def get_bearing(start, dest, point_cache):  \n",
        "  # get points using get_point\n",
        "  start_point = get_point(start, point_cache)\n",
        "  dest_point = get_point(dest, point_cache)\n",
        "  \n",
        "  # if both points valid calculate distance else return -1\n",
        "  try:\n",
        "    azimuth = Geodesic.WGS84.Inverse(start_point[0], start_point[1],\n",
        "                                     dest_point[0], dest_point[1], outmask = 512)['azi1']\n",
        "    bearing = azimuth\n",
        "    if bearing < 0: bearing += 360\n",
        "    \n",
        "    return bearing\n",
        "  except IndexError:\n",
        "    return 1000  "
      ],
      "execution_count": 48,
      "outputs": []
    },
    {
      "cell_type": "code",
      "metadata": {
        "colab": {
          "base_uri": "https://localhost:8080/"
        },
        "id": "Zd-MCtAP_7m4",
        "outputId": "7b082be6-e036-48b0-cfe5-71153664a2af"
      },
      "source": [
        "_point1 = \"Toronto ON\"\n",
        "_point2 = \"Guelph ON\"\n",
        "\n",
        "print(\"p1: \" + str(get_point(_point1, point_cache={})))\n",
        "print(\"p2: \" + str(get_point(_point2, point_cache={})))\n",
        "\n",
        "get_bearing(_point1, _point2, point_cache={})"
      ],
      "execution_count": 49,
      "outputs": [
        {
          "output_type": "stream",
          "text": [
            "p1: (43.6534817, -79.3839347)\n",
            "p2: (43.5460516, -80.2493276)\n"
          ],
          "name": "stdout"
        },
        {
          "output_type": "execute_result",
          "data": {
            "text/plain": [
              "260.60491445680526"
            ]
          },
          "metadata": {
            "tags": []
          },
          "execution_count": 49
        }
      ]
    },
    {
      "cell_type": "code",
      "metadata": {
        "id": "wkGVj71jAPAJ"
      },
      "source": [
        "_away_mask = (game_data['dt_for_away'] > 0)\n",
        "game_data['bearing_away'] = 0\n",
        "game_data.loc[_away_mask, 'bearing_away'] = game_data[_away_mask].apply(lambda x: get_bearing(x['away_city'], x['address'], point_cache), axis = 1)"
      ],
      "execution_count": 50,
      "outputs": []
    },
    {
      "cell_type": "code",
      "metadata": {
        "id": "eOwhy9wIHEQp"
      },
      "source": [
        "_address_mask = (game_data['bearing_away'] == 1000)\n",
        "game_data.loc[_address_mask,'bearing_away'] = game_data[_address_mask].apply(lambda x: get_bearing(x['away_city'], x['stadium'], point_cache), axis = 1)"
      ],
      "execution_count": 33,
      "outputs": []
    },
    {
      "cell_type": "code",
      "metadata": {
        "id": "RA-DIcLNO0N4"
      },
      "source": [
        "def get_compass_direction(bearing):\n",
        "  if bearing > 0.0 and bearing < 90.0:\n",
        "    return \"NE\"\n",
        "  elif bearing >= 90.0 and bearing < 180.0:\n",
        "    return \"SE\"\n",
        "  elif bearing >= 180.0 and bearing < 270.0:\n",
        "    return \"SW\"\n",
        "  elif bearing >= 270.0 and bearing < 360.0:\n",
        "    return \"NW\"\n",
        "  else:\n",
        "    return \"N/A\""
      ],
      "execution_count": 51,
      "outputs": []
    },
    {
      "cell_type": "code",
      "metadata": {
        "id": "QZso0Nm9MKe8"
      },
      "source": [
        "game_data['compass_away'] = game_data['bearing_away'].apply(get_compass_direction)"
      ],
      "execution_count": 52,
      "outputs": []
    },
    {
      "cell_type": "code",
      "metadata": {
        "colab": {
          "base_uri": "https://localhost:8080/"
        },
        "id": "Y5w5lUUyNBYO",
        "outputId": "8ae9e502-33ca-4bb2-ed40-64739854b335"
      },
      "source": [
        "game_data.groupby(['compass_away'])['game_id'].count()"
      ],
      "execution_count": 62,
      "outputs": [
        {
          "output_type": "execute_result",
          "data": {
            "text/plain": [
              "compass_away\n",
              "N/A    2157\n",
              "NE     3201\n",
              "NW     3214\n",
              "SE     1776\n",
              "SW     2599\n",
              "Name: game_id, dtype: int64"
            ]
          },
          "metadata": {
            "tags": []
          },
          "execution_count": 62
        }
      ]
    },
    {
      "cell_type": "markdown",
      "metadata": {
        "id": "7uTrxCvWLpL_"
      },
      "source": [
        "## Exploring missings rows in Kaggle (post presentation)"
      ]
    },
    {
      "cell_type": "markdown",
      "metadata": {
        "id": "USV4HPTLLujl"
      },
      "source": [
        "- 48 missing games in 87 season compared to elo dataset"
      ]
    },
    {
      "cell_type": "code",
      "metadata": {
        "id": "w9dxfRfOinE-"
      },
      "source": [
        "# print(\"diff elo - elo66: \" + str(len(elo) - len(elo[elo['date'] > date_cutoff])))\n",
        "# print(len(game_data))\n",
        "# print(\"diff kaggle - ELO66: \" + str(len(game_data) - len(elo66)))"
      ],
      "execution_count": 37,
      "outputs": []
    },
    {
      "cell_type": "code",
      "metadata": {
        "id": "qDH7m48pcHZq"
      },
      "source": [
        "# group_kaggle = game_data['schedule_season'].groupby(game_data['schedule_season']).count()"
      ],
      "execution_count": 38,
      "outputs": []
    },
    {
      "cell_type": "code",
      "metadata": {
        "id": "SKvrP__tcMSh"
      },
      "source": [
        "# print(elo66.head())\n",
        "# print(elo66.tail())"
      ],
      "execution_count": 39,
      "outputs": []
    },
    {
      "cell_type": "code",
      "metadata": {
        "id": "k4tzUtJMkwjC"
      },
      "source": [
        "# print(len(elo66))"
      ],
      "execution_count": 40,
      "outputs": []
    },
    {
      "cell_type": "code",
      "metadata": {
        "id": "_sr7Iubck3N_"
      },
      "source": [
        "# group_538 = elo66['season'].groupby(elo66['season']).count()"
      ],
      "execution_count": 41,
      "outputs": []
    },
    {
      "cell_type": "code",
      "metadata": {
        "id": "d7FIztGvlJmT"
      },
      "source": [
        "# print(len(group_538))\n",
        "# print(len(group_kaggle))"
      ],
      "execution_count": 42,
      "outputs": []
    },
    {
      "cell_type": "code",
      "metadata": {
        "id": "PY0D4C5zmPmI"
      },
      "source": [
        "# print(group_538.equals(group_kaggle))\n"
      ],
      "execution_count": 43,
      "outputs": []
    },
    {
      "cell_type": "code",
      "metadata": {
        "id": "uZE2oEQcncmt"
      },
      "source": [
        "# ps_538 = pd.Series(group_538)\n",
        "# ps_kaggle = pd.Series(group_kaggle)\n",
        "# print(ps_kaggle)\n",
        "# ps_538[ps_538 != ps_kaggle]\n",
        "\n",
        "# 1987 season in kaggle is 177, 219 in elo66"
      ],
      "execution_count": 44,
      "outputs": []
    },
    {
      "cell_type": "code",
      "metadata": {
        "id": "9WYdGZrCXSiM"
      },
      "source": [
        "# kaggle87_season_cols = ['schedule_date',  'home_city', 'away_city', 'score_home', 'score_away']\n",
        "# season1987_kaggle = (game_data['schedule_season'] == 1987)\n",
        "# kaggle87 = game_data.loc[season1987_kaggle, kaggle87_season_cols]\n",
        "# elo66_season_cols = ['date',  'team1', 'team2', 'score1', 'score2']\n",
        "# elo66_87 = (elo66['season'] == 1987)\n",
        "# elo66_87 = elo66.loc[elo66_87, elo66_season_cols]\n",
        "# diff = len(elo66_87) - len(kaggle87)\n",
        "# elo66_87\n",
        "# kaggle87\n",
        "\n",
        "# np.setdiff1d(kaggle87['schedule_date'], elo66_87['date'])\n"
      ],
      "execution_count": 45,
      "outputs": []
    },
    {
      "cell_type": "markdown",
      "metadata": {
        "id": "f0tTiF_3xkXp"
      },
      "source": [
        "## Pull Betting Data Only"
      ]
    },
    {
      "cell_type": "code",
      "metadata": {
        "id": "r0-tUKC4xrGY"
      },
      "source": [
        "# game_data.columns"
      ],
      "execution_count": 46,
      "outputs": []
    },
    {
      "cell_type": "code",
      "metadata": {
        "id": "way7G4ssxwAu"
      },
      "source": [
        "# betting_data_cols = ['schedule_date', 'schedule_season','home_city', 'home_teamname', 'away_city',\n",
        "#        'away_teamname', 'score_home', 'score_away', 'result',\n",
        "#        'team_favorite_id', 'spread_favorite', 'over_under_line']\n",
        "# betting_data = game_data[betting_data_cols]"
      ],
      "execution_count": 47,
      "outputs": []
    },
    {
      "cell_type": "code",
      "metadata": {
        "id": "GGx2nL394ycz"
      },
      "source": [
        "# betting_data.dropna(how = 'all',subset=['team_favorite_id', 'spread_favorite', 'over_under_line'], inplace=True)"
      ],
      "execution_count": 48,
      "outputs": []
    },
    {
      "cell_type": "code",
      "metadata": {
        "id": "3kQkg1XF6gGy"
      },
      "source": [
        "# betting_data"
      ],
      "execution_count": 49,
      "outputs": []
    },
    {
      "cell_type": "code",
      "metadata": {
        "id": "WRC9Z5kZ7Vhu"
      },
      "source": [
        "# team_ids = set(betting_data['team_favorite_id'])\n",
        "# print(team_ids)"
      ],
      "execution_count": 50,
      "outputs": []
    },
    {
      "cell_type": "code",
      "metadata": {
        "id": "8vav_mxS7xO5"
      },
      "source": [
        "# teams = pd.read_csv('/content/nfl-datasets/nfl_teams.csv')\n",
        "# team_ids_and_names = teams[['team_id' , 'team_name_short']]\n",
        "# team_ids_and_names = team_ids_and_names.set_index('team_id')\n",
        "# team_dict = team_ids_and_names.to_dict()\n",
        "# team_dict"
      ],
      "execution_count": 51,
      "outputs": []
    },
    {
      "cell_type": "code",
      "metadata": {
        "id": "rfUPiYWR_4CK"
      },
      "source": [
        "# team_name = betting_data['team_favorite_id']\n",
        "# fav_team = team_name.replace(team_ids_and_names['team_name_short'])\n",
        "# betting_data['fav_to_win'] = fav_team\n",
        "# _temp = betting_data['fav_team']\n",
        "# betting_data.drop(labels=['fav_team', 'fav_to_win'], axis = 1, inplace= True)\n",
        "# betting_data.insert(10, \"fav_team\", _temp)"
      ],
      "execution_count": 52,
      "outputs": []
    },
    {
      "cell_type": "code",
      "metadata": {
        "id": "RrrypG0AAUIa"
      },
      "source": [
        "# betting_data.to_excel(\"betting_data_NFL.xlsx\")"
      ],
      "execution_count": 53,
      "outputs": []
    },
    {
      "cell_type": "markdown",
      "metadata": {
        "id": "Y-LOmgKAOJ7O"
      },
      "source": [
        "## Merge ELO66 and game_data\n"
      ]
    },
    {
      "cell_type": "code",
      "metadata": {
        "colab": {
          "base_uri": "https://localhost:8080/"
        },
        "id": "ynI-jPYDORI3",
        "outputId": "73eb4421-96ad-492a-ea9f-aeb590e6b08d"
      },
      "source": [
        "elo66.set_index('game_id', inplace=True)\n",
        "game_data.set_index('game_id', inplace= True)\n",
        "print(elo66.head(15))\n",
        "print(game_data.head(15))\n",
        "print(elo66.tail(1))\n",
        "print(game_data.tail(1))\n"
      ],
      "execution_count": 66,
      "outputs": [
        {
          "output_type": "stream",
          "text": [
            "                     date  season  neutral  ...  qbelo2_post score1 score2\n",
            "game_id                                     ...                           \n",
            "19660902MIALVR 1966-09-02    1966        0  ...  1534.734433     14     23\n",
            "19660903TENDEN 1966-09-03    1966        0  ...  1352.452907     45      7\n",
            "19660904LACBUF 1966-09-04    1966        0  ...  1589.700719     27      7\n",
            "19660909MIANYJ 1966-09-09    1966        0  ...  1461.170692     14     19\n",
            "19660910LACNE  1966-09-10    1966        0  ...  1461.341001     24      0\n",
            "19660910GBIND  1966-09-10    1966        0  ...  1582.179732     24      3\n",
            "19660910TENLVR 1966-09-10    1966        0  ...  1493.961204     31      0\n",
            "19660911ATLLAR 1966-09-11    1966        0  ...  1469.668181     14     19\n",
            "19660911SFMIN  1966-09-11    1966        0  ...  1517.821741     20     20\n",
            "19660911WSHCLE 1966-09-11    1966        0  ...  1582.851078     14     38\n",
            "19660911ARIPHI 1966-09-11    1966        0  ...  1442.522381     16     13\n",
            "19660911PITNYG 1966-09-11    1966        0  ...  1456.047182     34     34\n",
            "19660911BUFKC  1966-09-11    1966        0  ...  1559.395218     20     42\n",
            "19660911DETCHI 1966-09-11    1966        0  ...  1561.152805     14      3\n",
            "19660916LARCHI 1966-09-16    1966        0  ...  1532.562639     31     17\n",
            "\n",
            "[15 rows x 30 columns]\n",
            "                     date_string schedule_date  ...  bearing_away compass_away\n",
            "game_id                                         ...                           \n",
            "19660902MIALVR  Fri Sep 02, 1966    1966-09-02  ...     96.186680           SE\n",
            "19660903TENDEN  Sat Sep 03, 1966    1966-09-03  ...    138.900977           SE\n",
            "19660904LACBUF  Sun Sep 04, 1966    1966-09-04  ...    264.216576           SW\n",
            "19660909MIANYJ  Fri Sep 09, 1966    1966-09-09  ...    201.054187           SW\n",
            "19660910GBIND   Sat Sep 10, 1966    1966-09-10  ...    305.082670           NW\n",
            "19660910TENLVR  Sat Sep 10, 1966    1966-09-10  ...    101.897530           SE\n",
            "19660910LACNE   Sat Sep 10, 1966    1966-09-10  ...    270.917060           NW\n",
            "19660911ATLLAR  Sun Sep 11, 1966    1966-09-11  ...     80.980528           NE\n",
            "19660911BUFKC   Sun Sep 11, 1966    1966-09-11  ...     67.206645           NE\n",
            "19660911DETCHI  Sun Sep 11, 1966    1966-09-11  ...     95.433508           SE\n",
            "19660911PITNYG  Sun Sep 11, 1966    1966-09-11  ...    268.524155           SW\n",
            "19660911SFMIN   Sun Sep 11, 1966    1966-09-11  ...    262.009803           SW\n",
            "19660911ARIPHI  Sun Sep 11, 1966    1966-09-11  ...    268.328772           SW\n",
            "19660911WASCLE  Sun Sep 11, 1966    1966-09-11  ...    124.108623           SE\n",
            "19660916LARCHI  Fri Sep 16, 1966    1966-09-16  ...    261.717515           SW\n",
            "\n",
            "[15 rows x 30 columns]\n",
            "                   date  season  neutral  ... qbelo2_post score1 score2\n",
            "game_id                                   ...                          \n",
            "20210207TBKC 2021-02-07    2020        1  ...  1709.06629     31      9\n",
            "\n",
            "[1 rows x 30 columns]\n",
            "                   date_string schedule_date  ...  bearing_away compass_away\n",
            "game_id                                       ...                           \n",
            "20210207TBKC  Sun Feb 07, 2021    2021-02-07  ...    134.181958           SE\n",
            "\n",
            "[1 rows x 30 columns]\n"
          ],
          "name": "stdout"
        }
      ]
    },
    {
      "cell_type": "code",
      "metadata": {
        "colab": {
          "base_uri": "https://localhost:8080/"
        },
        "id": "VieBJL_nQN6Q",
        "outputId": "39d2bcd9-1943-4206-b253-fc7a5465b49a"
      },
      "source": [
        "print([item for item, count in collections.Counter(kaggle_game_ids).items() if count > 1])\n",
        "print([item for item, count in collections.Counter(elo66_game_ids).items() if count > 1])\n",
        "print(set(elo66['team1']).union(elo66['team2']))\n"
      ],
      "execution_count": 67,
      "outputs": [
        {
          "output_type": "stream",
          "text": [
            "[]\n",
            "[]\n",
            "{'WSH', 'LAR', 'CAR', 'CHI', 'GB', 'LVR', 'CIN', 'JAX', 'KC', 'SF', 'NYG', 'PIT', 'IND', 'BUF', 'NYJ', 'HOU', 'ARI', 'NO', 'PHI', 'DET', 'NE', 'TB', 'TEN', 'DAL', 'LAC', 'MIA', 'DEN', 'BAL', 'ATL', 'MIN', 'CLE', 'SEA'}\n"
          ],
          "name": "stdout"
        }
      ]
    },
    {
      "cell_type": "code",
      "metadata": {
        "id": "szIQEIZsRD-P"
      },
      "source": [
        "final_dataset = game_data.merge(elo66, how='inner', left_index=True, right_index=True)"
      ],
      "execution_count": 73,
      "outputs": []
    },
    {
      "cell_type": "code",
      "metadata": {
        "colab": {
          "base_uri": "https://localhost:8080/"
        },
        "id": "xb6fnyIbdb_L",
        "outputId": "c8fcc178-9160-4d61-a7e3-f06c774c09de"
      },
      "source": [
        "final_dataset.columns"
      ],
      "execution_count": 74,
      "outputs": [
        {
          "output_type": "execute_result",
          "data": {
            "text/plain": [
              "Index(['date_string', 'schedule_date', 'schedule_season', 'schedule_week',\n",
              "       'schedule_playoff', 'home_team_id', 'home_city', 'home_teamname',\n",
              "       'away_city', 'away_teamname', 'away_team_id', 'result', 'team_home',\n",
              "       'score_home', 'score_away', 'team_away', 'team_favorite_id',\n",
              "       'spread_favorite', 'over_under_line', 'stadium', 'address',\n",
              "       'stadium_neutral', 'weather_temperature', 'weather_wind_mph',\n",
              "       'weather_humidity', 'weather_detail', 'dt_for_home', 'dt_for_away',\n",
              "       'bearing_away', 'compass_away', 'date', 'season', 'neutral', 'playoff',\n",
              "       'team1', 'team2', 'elo1_pre', 'elo2_pre', 'elo_prob1', 'elo_prob2',\n",
              "       'elo1_post', 'elo2_post', 'qbelo1_pre', 'qbelo2_pre', 'qb1', 'qb2',\n",
              "       'qb1_value_pre', 'qb2_value_pre', 'qb1_adj', 'qb2_adj', 'qbelo_prob1',\n",
              "       'qbelo_prob2', 'qb1_game_value', 'qb2_game_value', 'qb1_value_post',\n",
              "       'qb2_value_post', 'qbelo1_post', 'qbelo2_post', 'score1', 'score2'],\n",
              "      dtype='object')"
            ]
          },
          "metadata": {
            "tags": []
          },
          "execution_count": 74
        }
      ]
    },
    {
      "cell_type": "code",
      "metadata": {
        "id": "XYhrDeOMx0nX"
      },
      "source": [
        "final_dataset = final_dataset.drop(labels=['weather_temperature', 'weather_wind_mph','weather_humidity', 'weather_detail','date', 'season', 'neutral', 'playoff','elo1_post', 'elo2_post','qb1_adj','qb2_adj','qb1_game_value', 'qb2_game_value', 'qb1_value_post','qb2_value_post', 'qbelo1_post', 'qbelo2_post','score1', 'score2'], axis = 1)"
      ],
      "execution_count": 83,
      "outputs": []
    },
    {
      "cell_type": "code",
      "metadata": {
        "id": "PAPrRWJBy_iH"
      },
      "source": [
        "final_dataset['home_fav'] = [1 if x == y else 0 for (x,y) in zip(final_dataset['home_team_id'], final_dataset['team_favorite_id'])]"
      ],
      "execution_count": 84,
      "outputs": []
    },
    {
      "cell_type": "code",
      "metadata": {
        "id": "Df_su4wT2KLG"
      },
      "source": [
        "final_dataset.to_excel(\"NFL_final_dataset.xlsx\")\n",
        "final_dataset.to_json(\"final_dataset.json\")"
      ],
      "execution_count": 85,
      "outputs": []
    },
    {
      "cell_type": "code",
      "metadata": {
        "colab": {
          "base_uri": "https://localhost:8080/"
        },
        "id": "DgtDKn9-3eyM",
        "outputId": "0bb5ff74-2162-4bde-ea0a-47d1a6e00e62"
      },
      "source": [
        "len(final_dataset)"
      ],
      "execution_count": 87,
      "outputs": [
        {
          "output_type": "execute_result",
          "data": {
            "text/plain": [
              "12023"
            ]
          },
          "metadata": {
            "tags": []
          },
          "execution_count": 87
        }
      ]
    },
    {
      "cell_type": "code",
      "metadata": {
        "id": "u4OLxCsB4AY1"
      },
      "source": [
        ""
      ],
      "execution_count": null,
      "outputs": []
    }
  ]
}